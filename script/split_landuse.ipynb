{
 "cells": [
  {
   "cell_type": "markdown",
   "metadata": {},
   "source": [
    "# Splitting the land-use "
   ]
  },
  {
   "cell_type": "code",
   "execution_count": 1,
   "metadata": {},
   "outputs": [
    {
     "name": "stdout",
     "output_type": "stream",
     "text": [
      "Requirement already satisfied: area in /anaconda3/lib/python3.6/site-packages (1.1.1)\r\n"
     ]
    }
   ],
   "source": [
    "!pip install area"
   ]
  },
  {
   "cell_type": "code",
   "execution_count": 17,
   "metadata": {},
   "outputs": [],
   "source": [
    "import pandas as pd\n",
    "import json"
   ]
  },
  {
   "cell_type": "code",
   "execution_count": 5,
   "metadata": {},
   "outputs": [],
   "source": [
    "land_use_geo = r'land-use.geojson'\n",
    "geo_json_data = json.load(open(land_use_geo))"
   ]
  },
  {
   "cell_type": "code",
   "execution_count": 13,
   "metadata": {},
   "outputs": [
    {
     "data": {
      "text/html": [
       "<div>\n",
       "<style scoped>\n",
       "    .dataframe tbody tr th:only-of-type {\n",
       "        vertical-align: middle;\n",
       "    }\n",
       "\n",
       "    .dataframe tbody tr th {\n",
       "        vertical-align: top;\n",
       "    }\n",
       "\n",
       "    .dataframe thead th {\n",
       "        text-align: right;\n",
       "    }\n",
       "</style>\n",
       "<table border=\"1\" class=\"dataframe\">\n",
       "  <thead>\n",
       "    <tr style=\"text-align: right;\">\n",
       "      <th></th>\n",
       "      <th>geometry</th>\n",
       "      <th>properties</th>\n",
       "      <th>type</th>\n",
       "    </tr>\n",
       "  </thead>\n",
       "  <tbody>\n",
       "    <tr>\n",
       "      <th>0</th>\n",
       "      <td>{'type': 'Polygon', 'coordinates': [[[-69.0253...</td>\n",
       "      <td>{'DN': 1}</td>\n",
       "      <td>Feature</td>\n",
       "    </tr>\n",
       "    <tr>\n",
       "      <th>1</th>\n",
       "      <td>{'type': 'Polygon', 'coordinates': [[[-69.0923...</td>\n",
       "      <td>{'DN': 1}</td>\n",
       "      <td>Feature</td>\n",
       "    </tr>\n",
       "    <tr>\n",
       "      <th>2</th>\n",
       "      <td>{'type': 'Polygon', 'coordinates': [[[-69.0081...</td>\n",
       "      <td>{'DN': 1}</td>\n",
       "      <td>Feature</td>\n",
       "    </tr>\n",
       "    <tr>\n",
       "      <th>3</th>\n",
       "      <td>{'type': 'Polygon', 'coordinates': [[[-69.1005...</td>\n",
       "      <td>{'DN': 1}</td>\n",
       "      <td>Feature</td>\n",
       "    </tr>\n",
       "    <tr>\n",
       "      <th>4</th>\n",
       "      <td>{'type': 'Polygon', 'coordinates': [[[-68.9337...</td>\n",
       "      <td>{'DN': 1}</td>\n",
       "      <td>Feature</td>\n",
       "    </tr>\n",
       "  </tbody>\n",
       "</table>\n",
       "</div>"
      ],
      "text/plain": [
       "                                            geometry properties     type\n",
       "0  {'type': 'Polygon', 'coordinates': [[[-69.0253...  {'DN': 1}  Feature\n",
       "1  {'type': 'Polygon', 'coordinates': [[[-69.0923...  {'DN': 1}  Feature\n",
       "2  {'type': 'Polygon', 'coordinates': [[[-69.0081...  {'DN': 1}  Feature\n",
       "3  {'type': 'Polygon', 'coordinates': [[[-69.1005...  {'DN': 1}  Feature\n",
       "4  {'type': 'Polygon', 'coordinates': [[[-68.9337...  {'DN': 1}  Feature"
      ]
     },
     "execution_count": 13,
     "metadata": {},
     "output_type": "execute_result"
    }
   ],
   "source": [
    "df = pd.DataFrame(geo_json_data[\"features\"])\n",
    "df.head()"
   ]
  },
  {
   "cell_type": "code",
   "execution_count": 14,
   "metadata": {},
   "outputs": [
    {
     "data": {
      "text/plain": [
       "array([  1,   2,  12,  11,  14,   3,   4,  17,  10,  13,  15,   8, 128,\n",
       "        18,   5,   7,  16,   6,   9])"
      ]
     },
     "execution_count": 14,
     "metadata": {},
     "output_type": "execute_result"
    }
   ],
   "source": [
    "df['DN'] = df['properties'].apply(lambda x: x['DN'])\n",
    "df.DN.unique()"
   ]
  },
  {
   "cell_type": "code",
   "execution_count": 15,
   "metadata": {},
   "outputs": [],
   "source": [
    "df_dic = {}\n",
    "df_dic['tbd_df'] = 1\n",
    "df_dic['bosque_inundable'] = 2\n",
    "df_dic['bosque_no_inundable'] = 3\n",
    "df_dic['vegetacion'] = 4\n",
    "df_dic['humedales'] = 5\n",
    "df_dic['sabana_humedales'] = 6\n",
    "df_dic['sabana'] = 7\n",
    "df_dic['arbustos'] = 8\n",
    "df_dic['herbazal'] = 9\n",
    "df_dic['pasto_herbazal'] = 10\n",
    "df_dic['pasto'] = 11\n",
    "df_dic['pasto_agricultura'] = 12\n",
    "df_dic['agricultura'] = 13\n",
    "df_dic['agua'] = 14\n",
    "df_dic['urbano'] = 15\n",
    "df_dic['mineria'] = 16\n",
    "df_dic['suela_desnudo'] = 17\n",
    "df_dic['aguajales'] = 18\n",
    "df_dic['other'] = 128"
   ]
  },
  {
   "cell_type": "code",
   "execution_count": 16,
   "metadata": {},
   "outputs": [],
   "source": [
    "data = {}\n",
    "for k in df_dic.keys():\n",
    "    data[k] = df[df.DN == df_dic[k]]"
   ]
  },
  {
   "cell_type": "code",
   "execution_count": null,
   "metadata": {},
   "outputs": [],
   "source": [
    "categories_geojson = {}\n",
    "for k in df_dic.keys():\n",
    "    geo_json_copy = geo_json_data.copy()\n",
    "    geo_json_copy['features'] = [f for f in geo_json_data['features'] if f['properties']['DN'] == df_dic[k]]\n",
    "    categories_geojson[k] = geo_json_copy\n",
    "    fp = open(k+\".geojson\", \"w\")\n",
    "    fp.write(json.dumps(categories_geojson[k]))"
   ]
  }
 ],
 "metadata": {
  "kernelspec": {
   "display_name": "Python 3",
   "language": "python",
   "name": "python3"
  },
  "language_info": {
   "codemirror_mode": {
    "name": "ipython",
    "version": 3
   },
   "file_extension": ".py",
   "mimetype": "text/x-python",
   "name": "python",
   "nbconvert_exporter": "python",
   "pygments_lexer": "ipython3",
   "version": "3.6.5"
  }
 },
 "nbformat": 4,
 "nbformat_minor": 2
}
