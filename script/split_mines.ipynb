{
 "cells": [
  {
   "cell_type": "markdown",
   "metadata": {},
   "source": [
    "# Splitting the mines:"
   ]
  },
  {
   "cell_type": "code",
   "execution_count": 1,
   "metadata": {},
   "outputs": [
    {
     "name": "stdout",
     "output_type": "stream",
     "text": [
      "Requirement already satisfied: area in /anaconda3/lib/python3.6/site-packages (1.1.1)\r\n"
     ]
    }
   ],
   "source": [
    "!pip install area"
   ]
  },
  {
   "cell_type": "code",
   "execution_count": 1,
   "metadata": {},
   "outputs": [],
   "source": [
    "import pandas as pd\n",
    "import json"
   ]
  },
  {
   "cell_type": "code",
   "execution_count": 2,
   "metadata": {},
   "outputs": [
    {
     "data": {
      "text/html": [
       "<div>\n",
       "<style scoped>\n",
       "    .dataframe tbody tr th:only-of-type {\n",
       "        vertical-align: middle;\n",
       "    }\n",
       "\n",
       "    .dataframe tbody tr th {\n",
       "        vertical-align: top;\n",
       "    }\n",
       "\n",
       "    .dataframe thead th {\n",
       "        text-align: right;\n",
       "    }\n",
       "</style>\n",
       "<table border=\"1\" class=\"dataframe\">\n",
       "  <thead>\n",
       "    <tr style=\"text-align: right;\">\n",
       "      <th></th>\n",
       "      <th>geometry</th>\n",
       "      <th>properties</th>\n",
       "      <th>type</th>\n",
       "    </tr>\n",
       "  </thead>\n",
       "  <tbody>\n",
       "    <tr>\n",
       "      <th>0</th>\n",
       "      <td>{'type': 'Polygon', 'coordinates': [[[-69.3691...</td>\n",
       "      <td>{'Area_ha': 0.141312166499, 'Years': '2016a201...</td>\n",
       "      <td>Feature</td>\n",
       "    </tr>\n",
       "    <tr>\n",
       "      <th>1</th>\n",
       "      <td>{'type': 'Polygon', 'coordinates': [[[-69.3594...</td>\n",
       "      <td>{'Area_ha': 0.0679083455974, 'Years': '2016a20...</td>\n",
       "      <td>Feature</td>\n",
       "    </tr>\n",
       "    <tr>\n",
       "      <th>2</th>\n",
       "      <td>{'type': 'MultiPolygon', 'coordinates': [[[[-6...</td>\n",
       "      <td>{'Area_ha': 0.369814587709, 'Years': '2016a201...</td>\n",
       "      <td>Feature</td>\n",
       "    </tr>\n",
       "    <tr>\n",
       "      <th>3</th>\n",
       "      <td>{'type': 'Polygon', 'coordinates': [[[-69.3544...</td>\n",
       "      <td>{'Area_ha': 0.092385163752, 'Years': '2016a201...</td>\n",
       "      <td>Feature</td>\n",
       "    </tr>\n",
       "    <tr>\n",
       "      <th>4</th>\n",
       "      <td>{'type': 'MultiPolygon', 'coordinates': [[[[-6...</td>\n",
       "      <td>{'Area_ha': 0.287274455021, 'Years': '2016a201...</td>\n",
       "      <td>Feature</td>\n",
       "    </tr>\n",
       "    <tr>\n",
       "      <th>5</th>\n",
       "      <td>{'type': 'MultiPolygon', 'coordinates': [[[[-6...</td>\n",
       "      <td>{'Area_ha': 0.93222991031, 'Years': '2016a2017...</td>\n",
       "      <td>Feature</td>\n",
       "    </tr>\n",
       "    <tr>\n",
       "      <th>6</th>\n",
       "      <td>{'type': 'MultiPolygon', 'coordinates': [[[[-6...</td>\n",
       "      <td>{'Area_ha': 0.684631792434, 'Years': '2016a201...</td>\n",
       "      <td>Feature</td>\n",
       "    </tr>\n",
       "    <tr>\n",
       "      <th>7</th>\n",
       "      <td>{'type': 'MultiPolygon', 'coordinates': [[[[-6...</td>\n",
       "      <td>{'Area_ha': 3.12427990397, 'Years': '2016a2017...</td>\n",
       "      <td>Feature</td>\n",
       "    </tr>\n",
       "    <tr>\n",
       "      <th>8</th>\n",
       "      <td>{'type': 'MultiPolygon', 'coordinates': [[[[-6...</td>\n",
       "      <td>{'Area_ha': 0.3555652546, 'Years': '2016a2017'...</td>\n",
       "      <td>Feature</td>\n",
       "    </tr>\n",
       "    <tr>\n",
       "      <th>9</th>\n",
       "      <td>{'type': 'Polygon', 'coordinates': [[[-69.1632...</td>\n",
       "      <td>{'Area_ha': 0.024370260599, 'Years': '2016a201...</td>\n",
       "      <td>Feature</td>\n",
       "    </tr>\n",
       "  </tbody>\n",
       "</table>\n",
       "</div>"
      ],
      "text/plain": [
       "                                            geometry  \\\n",
       "0  {'type': 'Polygon', 'coordinates': [[[-69.3691...   \n",
       "1  {'type': 'Polygon', 'coordinates': [[[-69.3594...   \n",
       "2  {'type': 'MultiPolygon', 'coordinates': [[[[-6...   \n",
       "3  {'type': 'Polygon', 'coordinates': [[[-69.3544...   \n",
       "4  {'type': 'MultiPolygon', 'coordinates': [[[[-6...   \n",
       "5  {'type': 'MultiPolygon', 'coordinates': [[[[-6...   \n",
       "6  {'type': 'MultiPolygon', 'coordinates': [[[[-6...   \n",
       "7  {'type': 'MultiPolygon', 'coordinates': [[[[-6...   \n",
       "8  {'type': 'MultiPolygon', 'coordinates': [[[[-6...   \n",
       "9  {'type': 'Polygon', 'coordinates': [[[-69.1632...   \n",
       "\n",
       "                                          properties     type  \n",
       "0  {'Area_ha': 0.141312166499, 'Years': '2016a201...  Feature  \n",
       "1  {'Area_ha': 0.0679083455974, 'Years': '2016a20...  Feature  \n",
       "2  {'Area_ha': 0.369814587709, 'Years': '2016a201...  Feature  \n",
       "3  {'Area_ha': 0.092385163752, 'Years': '2016a201...  Feature  \n",
       "4  {'Area_ha': 0.287274455021, 'Years': '2016a201...  Feature  \n",
       "5  {'Area_ha': 0.93222991031, 'Years': '2016a2017...  Feature  \n",
       "6  {'Area_ha': 0.684631792434, 'Years': '2016a201...  Feature  \n",
       "7  {'Area_ha': 3.12427990397, 'Years': '2016a2017...  Feature  \n",
       "8  {'Area_ha': 0.3555652546, 'Years': '2016a2017'...  Feature  \n",
       "9  {'Area_ha': 0.024370260599, 'Years': '2016a201...  Feature  "
      ]
     },
     "execution_count": 2,
     "metadata": {},
     "output_type": "execute_result"
    }
   ],
   "source": [
    "mines_geo = r'mines.geojson'\n",
    "mines_data = json.load(open(mines_geo))\n",
    "\n",
    "df = pd.DataFrame(mines_data[\"features\"])\n",
    "df.head(10)"
   ]
  },
  {
   "cell_type": "code",
   "execution_count": 6,
   "metadata": {},
   "outputs": [],
   "source": [
    "df['Year'] = df['properties'].apply(lambda x: x['Year'])"
   ]
  },
  {
   "cell_type": "code",
   "execution_count": 11,
   "metadata": {},
   "outputs": [
    {
     "data": {
      "text/plain": [
       "array([2017., 2012., 2007., 2015., 2008., 2005., 2010., 2004., 2014.,\n",
       "       2016., 2002., 2006., 2001., 2013., 2003., 2009., 2011., 1996.,\n",
       "       1994., 1993., 1991., 1989., 1987., 1986., 1985., 1999., 2000.,\n",
       "       1997., 1998.])"
      ]
     },
     "execution_count": 11,
     "metadata": {},
     "output_type": "execute_result"
    }
   ],
   "source": [
    "df.Year.unique()"
   ]
  },
  {
   "cell_type": "code",
   "execution_count": 21,
   "metadata": {},
   "outputs": [],
   "source": [
    "df_dic = {}\n",
    "df_dic['80s'] = [1985,1990]\n",
    "df_dic['90s'] = [1990,2000]\n",
    "df_dic['2000s'] = [2000,2010]\n",
    "df_dic['2010'] = [2010,2018]"
   ]
  },
  {
   "cell_type": "code",
   "execution_count": 37,
   "metadata": {},
   "outputs": [],
   "source": [
    "data = {}\n",
    "for k in df_dic.keys():\n",
    "    data[k] = df[ (df.Year > df_dic[k][0]) & (df.Year < df_dic[k][1]) ]"
   ]
  },
  {
   "cell_type": "code",
   "execution_count": 46,
   "metadata": {},
   "outputs": [],
   "source": [
    "mines_years_geojson = {}\n",
    "for k in df_dic.keys():\n",
    "    geo_json_copy = mines_data.copy()\n",
    "    geo_json_copy['features'] = [f for f in mines_data['features'] if (f['properties']['Year'] > df_dic[k][0]) & (f['properties']['Year'] < df_dic[k][1])]\n",
    "    mines_years_geojson[k] = geo_json_copy\n",
    "    fp = open(k+\".geojson\", \"w\")\n",
    "    fp.write(json.dumps(mines_years_geojson[k]))\n"
   ]
  }
 ],
 "metadata": {
  "kernelspec": {
   "display_name": "Python 3",
   "language": "python",
   "name": "python3"
  },
  "language_info": {
   "codemirror_mode": {
    "name": "ipython",
    "version": 3
   },
   "file_extension": ".py",
   "mimetype": "text/x-python",
   "name": "python",
   "nbconvert_exporter": "python",
   "pygments_lexer": "ipython3",
   "version": "3.6.5"
  }
 },
 "nbformat": 4,
 "nbformat_minor": 2
}
